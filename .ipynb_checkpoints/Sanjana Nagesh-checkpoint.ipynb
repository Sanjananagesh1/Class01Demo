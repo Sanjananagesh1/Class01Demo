{
 "cells": [
  {
   "cell_type": "markdown",
   "id": "d895d7eb",
   "metadata": {},
   "source": [
    "<h2>Introduction to Creative Coding: Homework 1</h2>\n",
    "To complete this assignment, download this notebook and edit the code to produce the expected output. Be sure to upload the file to the shared drive before next class."
   ]
  },
  {
   "cell_type": "markdown",
   "id": "2ec51903",
   "metadata": {},
   "source": [
    "<h3>Problem 1</h3>\n",
    "Fix the following code by adding parentheses so that you print out 18<br/>\n",
    "Expected Output: <code>18</code>"
   ]
  },
  {
   "cell_type": "code",
   "execution_count": 39,
   "id": "a3d10032",
   "metadata": {},
   "outputs": [
    {
     "name": "stdout",
     "output_type": "stream",
     "text": [
      "18\n"
     ]
    }
   ],
   "source": [
    "add= (2 + 4) * 3\n",
    "print (add)"
   ]
  },
  {
   "cell_type": "markdown",
   "id": "7080a0ec",
   "metadata": {},
   "source": [
    "<h3>Problem 2</h3>\n",
    "Change the operators (not the numbers!) in the following code so you print out true, false, true\n",
    "<br/>Expected Output:<br/><code>True\n",
    "False\n",
    "True</code>"
   ]
  },
  {
   "cell_type": "code",
   "execution_count": 6,
   "id": "e8844491",
   "metadata": {},
   "outputs": [
    {
     "name": "stdout",
     "output_type": "stream",
     "text": [
      "True\n",
      "False\n",
      "True\n"
     ]
    }
   ],
   "source": [
    "print(4<5)\n",
    "print(12 % 2 == 1)\n",
    "print(2<6)"
   ]
  },
  {
   "cell_type": "markdown",
   "id": "0c7312b4",
   "metadata": {},
   "source": [
    "<h3>Problem 3</h3>\n",
    "Fix the following code so the numerical value is printed, not the variable name.\n",
    "You'll also want to round the value to an integer.\n",
    "<br/>Expected Output: <code>How many days are in 50 years? 18262</code>"
   ]
  },
  {
   "cell_type": "code",
   "execution_count": 5,
   "id": "a2d47e99",
   "metadata": {},
   "outputs": [
    {
     "name": "stdout",
     "output_type": "stream",
     "text": [
      "How many days are in 50 years? 18262\n"
     ]
    }
   ],
   "source": [
    "days_in_50_years = int(365 * 50 + (50/4))   # adding in leap days\n",
    "print(\"How many days are in 50 years?\" ,days_in_50_years)"
   ]
  },
  {
   "cell_type": "markdown",
   "id": "78bd430a",
   "metadata": {},
   "source": [
    "<h3>Problem 4</h3>\n",
    "Assign values to the following three variables so you print out the expected output.\n",
    "<br/>Expected Output:<br/>\n",
    "<code>&lt; class 'int'><br/>&lt; class 'float'><br/>&lt; class 'str'><br/></code>"
   ]
  },
  {
   "cell_type": "code",
   "execution_count": 8,
   "id": "ab59ab61",
   "metadata": {},
   "outputs": [
    {
     "name": "stdout",
     "output_type": "stream",
     "text": [
      "<class 'int'>\n",
      "<class 'float'>\n",
      "<class 'str'>\n"
     ]
    }
   ],
   "source": [
    "int_var = 3\n",
    "float_var = 0.3\n",
    "str_var = \"red\"\n",
    "print(type(int_var))\n",
    "print(type(float_var))\n",
    "print(type(str_var))"
   ]
  },
  {
   "cell_type": "markdown",
   "id": "199cd398",
   "metadata": {},
   "source": [
    "<h3>Problem 5</h3>\n",
    "Using the defined variables, print the phrase \"Time After Time\" (note the spaces). Do not change the variables' values! Hint: use + to add the spaces<br/>\n",
    "Expected Output: <code>Time After Time</code>"
   ]
  },
  {
   "cell_type": "code",
   "execution_count": 4,
   "id": "055dfa5a",
   "metadata": {},
   "outputs": [
    {
     "name": "stdout",
     "output_type": "stream",
     "text": [
      "Time After Time\n"
     ]
    }
   ],
   "source": [
    "time_str = \"Time\"\n",
    "after_str = \"After\"\n",
    "print(time_str + \" \" + after_str + \" \" + time_str)"
   ]
  },
  {
   "cell_type": "markdown",
   "id": "f6947e19",
   "metadata": {},
   "source": [
    "<h3>Problem 6</h3>\n",
    "Using the following two variables, print the total number of characters of the two phrases. <br/>\n",
    "Expected Output: <code>37</code>"
   ]
  },
  {
   "cell_type": "code",
   "execution_count": 7,
   "id": "5338988c",
   "metadata": {},
   "outputs": [
    {
     "name": "stdout",
     "output_type": "stream",
     "text": [
      "37\n"
     ]
    }
   ],
   "source": [
    "str1 = \"I'm a great string\"\n",
    "str2 = \"I'm a better string\"\n",
    "Length = len (str1+str2)\n",
    "print(Length)"
   ]
  },
  {
   "cell_type": "markdown",
   "id": "d52eea0e",
   "metadata": {},
   "source": [
    "<h3>Problem 7</h3>\n",
    "Print the index of the first instance of the letter 'o'<br/>\n",
    "Expected Output: <code>19</code>"
   ]
  },
  {
   "cell_type": "code",
   "execution_count": 8,
   "id": "a90ad8ef",
   "metadata": {},
   "outputs": [
    {
     "name": "stdout",
     "output_type": "stream",
     "text": [
      "19\n"
     ]
    }
   ],
   "source": [
    "str_with_o = \"I am a string and somewhere in here is the character u are seeking\"\n",
    "idx_of_o = str_with_o. index('o')\n",
    "print(idx_of_o)"
   ]
  },
  {
   "cell_type": "markdown",
   "id": "e586e735",
   "metadata": {},
   "source": [
    "<h3>Problem 8</h3>\n",
    "Using the previously defined idx_of_o variable print str_with_o starting from the first 'o' and ending before the first 'k'. Use string indexing.<br/>\n",
    "Expected Output: <code>omewhere in here is the character u are see</code>"
   ]
  },
  {
   "cell_type": "code",
   "execution_count": 10,
   "id": "d5acfded",
   "metadata": {},
   "outputs": [
    {
     "name": "stdout",
     "output_type": "stream",
     "text": [
      "omewhere in here is the character u are see\n"
     ]
    }
   ],
   "source": [
    "str_with_o = \"I am a string and somewhere in here is the character u are seeking\"\n",
    "idx_of_o = str_with_o.index('o')\n",
    "idx_of_k = str_with_o.index('k')\n",
    "substring = str_with_o[idx_of_o:idx_of_k]\n",
    "print(substring)\n"
   ]
  },
  {
   "cell_type": "markdown",
   "id": "f3040214",
   "metadata": {},
   "source": [
    "<h3>Problem 9</h3>\n",
    "Using the following defined string, print out the 1st and 21st characters matching the expected outcome format. Use string indexing. Remember in programming we start counting at 0! <br/>\n",
    "Expected Output: <code>The first character is T and the twenty-first character is j</code>"
   ]
  },
  {
   "cell_type": "code",
   "execution_count": 18,
   "id": "06a5166d",
   "metadata": {},
   "outputs": [
    {
     "name": "stdout",
     "output_type": "stream",
     "text": [
      "The first character is T and the twenty-first character is j\n"
     ]
    }
   ],
   "source": [
    "my_example_string = \"The quick brown fox jumps over the lazy dog\"\n",
    "ch1 = my_example_string[0]\n",
    "ch2 = my_example_string[20]\n",
    "print(f\"The first character is {ch1} and the twenty-first character is {ch2}\")"
   ]
  },
  {
   "cell_type": "markdown",
   "id": "cc19c0d9",
   "metadata": {},
   "source": [
    "<h3>Problem 10</h3>\n",
    "Using the find method, assign values to y_idx, f_idx, and m_idx that returns the first instance of y, f, and m respectively. \n",
    "<br/>Expected Output: <code>10 24 55</code>"
   ]
  },
  {
   "cell_type": "code",
   "execution_count": 20,
   "id": "23f474e7",
   "metadata": {},
   "outputs": [
    {
     "name": "stdout",
     "output_type": "stream",
     "text": [
      "10 24 55\n"
     ]
    }
   ],
   "source": [
    "long_str = \"Just when you think you found the answer, you find all meaning is lost\"\n",
    "y_idx = long_str.find ('y')\n",
    "f_idx = long_str.find ('f')\n",
    "m_idx = long_str.find ('m')\n",
    "print(y_idx, f_idx, m_idx)"
   ]
  },
  {
   "cell_type": "markdown",
   "id": "bbafa5a8",
   "metadata": {},
   "source": [
    "<h3>Problem 11</h3>\n",
    "Assign values to you_str, found_str, and me_str that uses the previous three variables and string indexing to return the substring 'you', 'found', and 'me' respectively. Hint: addition would be helpful here. \n",
    "<br/>Expected Outcome: <code>you found me</code>"
   ]
  },
  {
   "cell_type": "code",
   "execution_count": 24,
   "id": "13152864",
   "metadata": {},
   "outputs": [
    {
     "name": "stdout",
     "output_type": "stream",
     "text": [
      "you found me\n"
     ]
    }
   ],
   "source": [
    "you_str = long_str[y_idx:y_idx+3]\n",
    "found_str = long_str[f_idx:f_idx+5]\n",
    "me_str = long_str[m_idx:m_idx+2]\n",
    "\n",
    "print(you_str + \" \" + found_str + \" \" + me_str)\n"
   ]
  },
  {
   "cell_type": "code",
   "execution_count": null,
   "id": "d27cf99f-de06-4de2-a8ee-3fba4c13a436",
   "metadata": {},
   "outputs": [],
   "source": []
  }
 ],
 "metadata": {
  "kernelspec": {
   "display_name": "Python 3 (ipykernel)",
   "language": "python",
   "name": "python3"
  },
  "language_info": {
   "codemirror_mode": {
    "name": "ipython",
    "version": 3
   },
   "file_extension": ".py",
   "mimetype": "text/x-python",
   "name": "python",
   "nbconvert_exporter": "python",
   "pygments_lexer": "ipython3",
   "version": "3.12.0"
  }
 },
 "nbformat": 4,
 "nbformat_minor": 5
}
